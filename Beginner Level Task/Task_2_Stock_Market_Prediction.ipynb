{
  "nbformat": 4,
  "nbformat_minor": 0,
  "metadata": {
    "colab": {
      "name": "Task 2: Stock Market Prediction",
      "provenance": []
    },
    "kernelspec": {
      "name": "python3",
      "display_name": "Python 3"
    },
    "language_info": {
      "name": "python"
    }
  },
  "cells": [
    {
      "cell_type": "markdown",
      "source": [
        "# Stock Market Prediction And Forecasting Using Stacked LSTM"
      ],
      "metadata": {
        "id": "k96rCMQby_vW"
      }
    },
    {
      "cell_type": "code",
      "source": [
        "import pandas as pd\n",
        "import numpy as np\n",
        "import scipy.stats as st\n",
        "import os\n",
        "import matplotlib.pyplot as plt\n",
        "import seaborn as sns\n",
        "import datetime\n",
        "import math\n",
        "from sklearn.metrics import mean_squared_error\n",
        "from sklearn.preprocessing import MinMaxScaler"
      ],
      "metadata": {
        "id": "jGQav7wwzHVs"
      },
      "execution_count": 3,
      "outputs": []
    },
    {
      "cell_type": "code",
      "source": [
        "pip install keras"
      ],
      "metadata": {
        "colab": {
          "base_uri": "https://localhost:8080/"
        },
        "id": "In99Bu-PzOo5",
        "outputId": "2204637a-78fb-4390-ef5b-7e1910589549"
      },
      "execution_count": 4,
      "outputs": [
        {
          "output_type": "stream",
          "name": "stdout",
          "text": [
            "Looking in indexes: https://pypi.org/simple, https://us-python.pkg.dev/colab-wheels/public/simple/\n",
            "Requirement already satisfied: keras in /usr/local/lib/python3.7/dist-packages (2.8.0)\n"
          ]
        }
      ]
    },
    {
      "cell_type": "code",
      "source": [
        "pip install tensorflow"
      ],
      "metadata": {
        "colab": {
          "base_uri": "https://localhost:8080/"
        },
        "id": "XgGimnvizVns",
        "outputId": "c146964c-89f2-4a60-96db-07edc0585180"
      },
      "execution_count": 5,
      "outputs": [
        {
          "output_type": "stream",
          "name": "stdout",
          "text": [
            "Looking in indexes: https://pypi.org/simple, https://us-python.pkg.dev/colab-wheels/public/simple/\n",
            "Requirement already satisfied: tensorflow in /usr/local/lib/python3.7/dist-packages (2.8.0+zzzcolab20220506162203)\n",
            "Requirement already satisfied: typing-extensions>=3.6.6 in /usr/local/lib/python3.7/dist-packages (from tensorflow) (4.2.0)\n",
            "Requirement already satisfied: absl-py>=0.4.0 in /usr/local/lib/python3.7/dist-packages (from tensorflow) (1.0.0)\n",
            "Collecting tf-estimator-nightly==2.8.0.dev2021122109\n",
            "  Downloading tf_estimator_nightly-2.8.0.dev2021122109-py2.py3-none-any.whl (462 kB)\n",
            "\u001b[K     |████████████████████████████████| 462 kB 5.6 MB/s \n",
            "\u001b[?25hRequirement already satisfied: six>=1.12.0 in /usr/local/lib/python3.7/dist-packages (from tensorflow) (1.15.0)\n",
            "Requirement already satisfied: wrapt>=1.11.0 in /usr/local/lib/python3.7/dist-packages (from tensorflow) (1.14.1)\n",
            "Requirement already satisfied: h5py>=2.9.0 in /usr/local/lib/python3.7/dist-packages (from tensorflow) (3.1.0)\n",
            "Requirement already satisfied: libclang>=9.0.1 in /usr/local/lib/python3.7/dist-packages (from tensorflow) (14.0.1)\n",
            "Requirement already satisfied: termcolor>=1.1.0 in /usr/local/lib/python3.7/dist-packages (from tensorflow) (1.1.0)\n",
            "Requirement already satisfied: protobuf>=3.9.2 in /usr/local/lib/python3.7/dist-packages (from tensorflow) (3.17.3)\n",
            "Requirement already satisfied: grpcio<2.0,>=1.24.3 in /usr/local/lib/python3.7/dist-packages (from tensorflow) (1.46.1)\n",
            "Requirement already satisfied: keras-preprocessing>=1.1.1 in /usr/local/lib/python3.7/dist-packages (from tensorflow) (1.1.2)\n",
            "Requirement already satisfied: tensorflow-io-gcs-filesystem>=0.23.1 in /usr/local/lib/python3.7/dist-packages (from tensorflow) (0.26.0)\n",
            "Requirement already satisfied: astunparse>=1.6.0 in /usr/local/lib/python3.7/dist-packages (from tensorflow) (1.6.3)\n",
            "Requirement already satisfied: keras<2.9,>=2.8.0rc0 in /usr/local/lib/python3.7/dist-packages (from tensorflow) (2.8.0)\n",
            "Requirement already satisfied: tensorboard<2.9,>=2.8 in /usr/local/lib/python3.7/dist-packages (from tensorflow) (2.8.0)\n",
            "Requirement already satisfied: google-pasta>=0.1.1 in /usr/local/lib/python3.7/dist-packages (from tensorflow) (0.2.0)\n",
            "Requirement already satisfied: gast>=0.2.1 in /usr/local/lib/python3.7/dist-packages (from tensorflow) (0.5.3)\n",
            "Requirement already satisfied: flatbuffers>=1.12 in /usr/local/lib/python3.7/dist-packages (from tensorflow) (2.0)\n",
            "Requirement already satisfied: opt-einsum>=2.3.2 in /usr/local/lib/python3.7/dist-packages (from tensorflow) (3.3.0)\n",
            "Requirement already satisfied: numpy>=1.20 in /usr/local/lib/python3.7/dist-packages (from tensorflow) (1.21.6)\n",
            "Requirement already satisfied: setuptools in /usr/local/lib/python3.7/dist-packages (from tensorflow) (57.4.0)\n",
            "Requirement already satisfied: wheel<1.0,>=0.23.0 in /usr/local/lib/python3.7/dist-packages (from astunparse>=1.6.0->tensorflow) (0.37.1)\n",
            "Requirement already satisfied: cached-property in /usr/local/lib/python3.7/dist-packages (from h5py>=2.9.0->tensorflow) (1.5.2)\n",
            "Requirement already satisfied: google-auth-oauthlib<0.5,>=0.4.1 in /usr/local/lib/python3.7/dist-packages (from tensorboard<2.9,>=2.8->tensorflow) (0.4.6)\n",
            "Requirement already satisfied: werkzeug>=0.11.15 in /usr/local/lib/python3.7/dist-packages (from tensorboard<2.9,>=2.8->tensorflow) (1.0.1)\n",
            "Requirement already satisfied: requests<3,>=2.21.0 in /usr/local/lib/python3.7/dist-packages (from tensorboard<2.9,>=2.8->tensorflow) (2.23.0)\n",
            "Requirement already satisfied: tensorboard-data-server<0.7.0,>=0.6.0 in /usr/local/lib/python3.7/dist-packages (from tensorboard<2.9,>=2.8->tensorflow) (0.6.1)\n",
            "Requirement already satisfied: google-auth<3,>=1.6.3 in /usr/local/lib/python3.7/dist-packages (from tensorboard<2.9,>=2.8->tensorflow) (1.35.0)\n",
            "Requirement already satisfied: tensorboard-plugin-wit>=1.6.0 in /usr/local/lib/python3.7/dist-packages (from tensorboard<2.9,>=2.8->tensorflow) (1.8.1)\n",
            "Requirement already satisfied: markdown>=2.6.8 in /usr/local/lib/python3.7/dist-packages (from tensorboard<2.9,>=2.8->tensorflow) (3.3.7)\n",
            "Requirement already satisfied: rsa<5,>=3.1.4 in /usr/local/lib/python3.7/dist-packages (from google-auth<3,>=1.6.3->tensorboard<2.9,>=2.8->tensorflow) (4.8)\n",
            "Requirement already satisfied: cachetools<5.0,>=2.0.0 in /usr/local/lib/python3.7/dist-packages (from google-auth<3,>=1.6.3->tensorboard<2.9,>=2.8->tensorflow) (4.2.4)\n",
            "Requirement already satisfied: pyasn1-modules>=0.2.1 in /usr/local/lib/python3.7/dist-packages (from google-auth<3,>=1.6.3->tensorboard<2.9,>=2.8->tensorflow) (0.2.8)\n",
            "Requirement already satisfied: requests-oauthlib>=0.7.0 in /usr/local/lib/python3.7/dist-packages (from google-auth-oauthlib<0.5,>=0.4.1->tensorboard<2.9,>=2.8->tensorflow) (1.3.1)\n",
            "Requirement already satisfied: importlib-metadata>=4.4 in /usr/local/lib/python3.7/dist-packages (from markdown>=2.6.8->tensorboard<2.9,>=2.8->tensorflow) (4.11.3)\n",
            "Requirement already satisfied: zipp>=0.5 in /usr/local/lib/python3.7/dist-packages (from importlib-metadata>=4.4->markdown>=2.6.8->tensorboard<2.9,>=2.8->tensorflow) (3.8.0)\n",
            "Requirement already satisfied: pyasn1<0.5.0,>=0.4.6 in /usr/local/lib/python3.7/dist-packages (from pyasn1-modules>=0.2.1->google-auth<3,>=1.6.3->tensorboard<2.9,>=2.8->tensorflow) (0.4.8)\n",
            "Requirement already satisfied: chardet<4,>=3.0.2 in /usr/local/lib/python3.7/dist-packages (from requests<3,>=2.21.0->tensorboard<2.9,>=2.8->tensorflow) (3.0.4)\n",
            "Requirement already satisfied: idna<3,>=2.5 in /usr/local/lib/python3.7/dist-packages (from requests<3,>=2.21.0->tensorboard<2.9,>=2.8->tensorflow) (2.10)\n",
            "Requirement already satisfied: urllib3!=1.25.0,!=1.25.1,<1.26,>=1.21.1 in /usr/local/lib/python3.7/dist-packages (from requests<3,>=2.21.0->tensorboard<2.9,>=2.8->tensorflow) (1.24.3)\n",
            "Requirement already satisfied: certifi>=2017.4.17 in /usr/local/lib/python3.7/dist-packages (from requests<3,>=2.21.0->tensorboard<2.9,>=2.8->tensorflow) (2022.5.18.1)\n",
            "Requirement already satisfied: oauthlib>=3.0.0 in /usr/local/lib/python3.7/dist-packages (from requests-oauthlib>=0.7.0->google-auth-oauthlib<0.5,>=0.4.1->tensorboard<2.9,>=2.8->tensorflow) (3.2.0)\n",
            "Installing collected packages: tf-estimator-nightly\n",
            "Successfully installed tf-estimator-nightly-2.8.0.dev2021122109\n"
          ]
        }
      ]
    },
    {
      "cell_type": "code",
      "source": [
        "from keras.models import Sequential\n",
        "from keras.layers import Dense\n",
        "from keras.layers import LSTM\n",
        "from keras.layers import Dropout"
      ],
      "metadata": {
        "id": "r063bIvxzcvK"
      },
      "execution_count": 6,
      "outputs": []
    },
    {
      "cell_type": "markdown",
      "source": [
        "# Collect Stock Data"
      ],
      "metadata": {
        "id": "JaVVy369znRz"
      }
    },
    {
      "cell_type": "code",
      "source": [
        "df=pd.read_csv('task2-dataset.csv')\n",
        "df\n"
      ],
      "metadata": {
        "colab": {
          "base_uri": "https://localhost:8080/",
          "height": 424
        },
        "id": "JyvUkBv0zfAA",
        "outputId": "f6563d10-9794-4809-b61d-15b931c2374f"
      },
      "execution_count": 8,
      "outputs": [
        {
          "output_type": "execute_result",
          "data": {
            "text/plain": [
              "            Date    Open    High     Low    Last   Close  \\\n",
              "0     2018-09-28  234.05  235.95  230.20  233.50  233.75   \n",
              "1     2018-09-27  234.55  236.80  231.10  233.80  233.25   \n",
              "2     2018-09-26  240.00  240.00  232.50  235.00  234.25   \n",
              "3     2018-09-25  233.30  236.75  232.00  236.25  236.10   \n",
              "4     2018-09-24  233.55  239.20  230.75  234.00  233.30   \n",
              "...          ...     ...     ...     ...     ...     ...   \n",
              "2030  2010-07-27  117.60  119.50  112.00  118.80  118.65   \n",
              "2031  2010-07-26  120.10  121.00  117.10  117.10  117.60   \n",
              "2032  2010-07-23  121.80  121.95  120.25  120.35  120.65   \n",
              "2033  2010-07-22  120.30  122.00  120.25  120.75  120.90   \n",
              "2034  2010-07-21  122.10  123.00  121.05  121.10  121.55   \n",
              "\n",
              "      Total Trade Quantity  Turnover (Lacs)  \n",
              "0                  3069914          7162.35  \n",
              "1                  5082859         11859.95  \n",
              "2                  2240909          5248.60  \n",
              "3                  2349368          5503.90  \n",
              "4                  3423509          7999.55  \n",
              "...                    ...              ...  \n",
              "2030                586100           694.98  \n",
              "2031                658440           780.01  \n",
              "2032                281312           340.31  \n",
              "2033                293312           355.17  \n",
              "2034                658666           803.56  \n",
              "\n",
              "[2035 rows x 8 columns]"
            ],
            "text/html": [
              "\n",
              "  <div id=\"df-d3481e02-369f-4599-9c74-c3f322eaa9d0\">\n",
              "    <div class=\"colab-df-container\">\n",
              "      <div>\n",
              "<style scoped>\n",
              "    .dataframe tbody tr th:only-of-type {\n",
              "        vertical-align: middle;\n",
              "    }\n",
              "\n",
              "    .dataframe tbody tr th {\n",
              "        vertical-align: top;\n",
              "    }\n",
              "\n",
              "    .dataframe thead th {\n",
              "        text-align: right;\n",
              "    }\n",
              "</style>\n",
              "<table border=\"1\" class=\"dataframe\">\n",
              "  <thead>\n",
              "    <tr style=\"text-align: right;\">\n",
              "      <th></th>\n",
              "      <th>Date</th>\n",
              "      <th>Open</th>\n",
              "      <th>High</th>\n",
              "      <th>Low</th>\n",
              "      <th>Last</th>\n",
              "      <th>Close</th>\n",
              "      <th>Total Trade Quantity</th>\n",
              "      <th>Turnover (Lacs)</th>\n",
              "    </tr>\n",
              "  </thead>\n",
              "  <tbody>\n",
              "    <tr>\n",
              "      <th>0</th>\n",
              "      <td>2018-09-28</td>\n",
              "      <td>234.05</td>\n",
              "      <td>235.95</td>\n",
              "      <td>230.20</td>\n",
              "      <td>233.50</td>\n",
              "      <td>233.75</td>\n",
              "      <td>3069914</td>\n",
              "      <td>7162.35</td>\n",
              "    </tr>\n",
              "    <tr>\n",
              "      <th>1</th>\n",
              "      <td>2018-09-27</td>\n",
              "      <td>234.55</td>\n",
              "      <td>236.80</td>\n",
              "      <td>231.10</td>\n",
              "      <td>233.80</td>\n",
              "      <td>233.25</td>\n",
              "      <td>5082859</td>\n",
              "      <td>11859.95</td>\n",
              "    </tr>\n",
              "    <tr>\n",
              "      <th>2</th>\n",
              "      <td>2018-09-26</td>\n",
              "      <td>240.00</td>\n",
              "      <td>240.00</td>\n",
              "      <td>232.50</td>\n",
              "      <td>235.00</td>\n",
              "      <td>234.25</td>\n",
              "      <td>2240909</td>\n",
              "      <td>5248.60</td>\n",
              "    </tr>\n",
              "    <tr>\n",
              "      <th>3</th>\n",
              "      <td>2018-09-25</td>\n",
              "      <td>233.30</td>\n",
              "      <td>236.75</td>\n",
              "      <td>232.00</td>\n",
              "      <td>236.25</td>\n",
              "      <td>236.10</td>\n",
              "      <td>2349368</td>\n",
              "      <td>5503.90</td>\n",
              "    </tr>\n",
              "    <tr>\n",
              "      <th>4</th>\n",
              "      <td>2018-09-24</td>\n",
              "      <td>233.55</td>\n",
              "      <td>239.20</td>\n",
              "      <td>230.75</td>\n",
              "      <td>234.00</td>\n",
              "      <td>233.30</td>\n",
              "      <td>3423509</td>\n",
              "      <td>7999.55</td>\n",
              "    </tr>\n",
              "    <tr>\n",
              "      <th>...</th>\n",
              "      <td>...</td>\n",
              "      <td>...</td>\n",
              "      <td>...</td>\n",
              "      <td>...</td>\n",
              "      <td>...</td>\n",
              "      <td>...</td>\n",
              "      <td>...</td>\n",
              "      <td>...</td>\n",
              "    </tr>\n",
              "    <tr>\n",
              "      <th>2030</th>\n",
              "      <td>2010-07-27</td>\n",
              "      <td>117.60</td>\n",
              "      <td>119.50</td>\n",
              "      <td>112.00</td>\n",
              "      <td>118.80</td>\n",
              "      <td>118.65</td>\n",
              "      <td>586100</td>\n",
              "      <td>694.98</td>\n",
              "    </tr>\n",
              "    <tr>\n",
              "      <th>2031</th>\n",
              "      <td>2010-07-26</td>\n",
              "      <td>120.10</td>\n",
              "      <td>121.00</td>\n",
              "      <td>117.10</td>\n",
              "      <td>117.10</td>\n",
              "      <td>117.60</td>\n",
              "      <td>658440</td>\n",
              "      <td>780.01</td>\n",
              "    </tr>\n",
              "    <tr>\n",
              "      <th>2032</th>\n",
              "      <td>2010-07-23</td>\n",
              "      <td>121.80</td>\n",
              "      <td>121.95</td>\n",
              "      <td>120.25</td>\n",
              "      <td>120.35</td>\n",
              "      <td>120.65</td>\n",
              "      <td>281312</td>\n",
              "      <td>340.31</td>\n",
              "    </tr>\n",
              "    <tr>\n",
              "      <th>2033</th>\n",
              "      <td>2010-07-22</td>\n",
              "      <td>120.30</td>\n",
              "      <td>122.00</td>\n",
              "      <td>120.25</td>\n",
              "      <td>120.75</td>\n",
              "      <td>120.90</td>\n",
              "      <td>293312</td>\n",
              "      <td>355.17</td>\n",
              "    </tr>\n",
              "    <tr>\n",
              "      <th>2034</th>\n",
              "      <td>2010-07-21</td>\n",
              "      <td>122.10</td>\n",
              "      <td>123.00</td>\n",
              "      <td>121.05</td>\n",
              "      <td>121.10</td>\n",
              "      <td>121.55</td>\n",
              "      <td>658666</td>\n",
              "      <td>803.56</td>\n",
              "    </tr>\n",
              "  </tbody>\n",
              "</table>\n",
              "<p>2035 rows × 8 columns</p>\n",
              "</div>\n",
              "      <button class=\"colab-df-convert\" onclick=\"convertToInteractive('df-d3481e02-369f-4599-9c74-c3f322eaa9d0')\"\n",
              "              title=\"Convert this dataframe to an interactive table.\"\n",
              "              style=\"display:none;\">\n",
              "        \n",
              "  <svg xmlns=\"http://www.w3.org/2000/svg\" height=\"24px\"viewBox=\"0 0 24 24\"\n",
              "       width=\"24px\">\n",
              "    <path d=\"M0 0h24v24H0V0z\" fill=\"none\"/>\n",
              "    <path d=\"M18.56 5.44l.94 2.06.94-2.06 2.06-.94-2.06-.94-.94-2.06-.94 2.06-2.06.94zm-11 1L8.5 8.5l.94-2.06 2.06-.94-2.06-.94L8.5 2.5l-.94 2.06-2.06.94zm10 10l.94 2.06.94-2.06 2.06-.94-2.06-.94-.94-2.06-.94 2.06-2.06.94z\"/><path d=\"M17.41 7.96l-1.37-1.37c-.4-.4-.92-.59-1.43-.59-.52 0-1.04.2-1.43.59L10.3 9.45l-7.72 7.72c-.78.78-.78 2.05 0 2.83L4 21.41c.39.39.9.59 1.41.59.51 0 1.02-.2 1.41-.59l7.78-7.78 2.81-2.81c.8-.78.8-2.07 0-2.86zM5.41 20L4 18.59l7.72-7.72 1.47 1.35L5.41 20z\"/>\n",
              "  </svg>\n",
              "      </button>\n",
              "      \n",
              "  <style>\n",
              "    .colab-df-container {\n",
              "      display:flex;\n",
              "      flex-wrap:wrap;\n",
              "      gap: 12px;\n",
              "    }\n",
              "\n",
              "    .colab-df-convert {\n",
              "      background-color: #E8F0FE;\n",
              "      border: none;\n",
              "      border-radius: 50%;\n",
              "      cursor: pointer;\n",
              "      display: none;\n",
              "      fill: #1967D2;\n",
              "      height: 32px;\n",
              "      padding: 0 0 0 0;\n",
              "      width: 32px;\n",
              "    }\n",
              "\n",
              "    .colab-df-convert:hover {\n",
              "      background-color: #E2EBFA;\n",
              "      box-shadow: 0px 1px 2px rgba(60, 64, 67, 0.3), 0px 1px 3px 1px rgba(60, 64, 67, 0.15);\n",
              "      fill: #174EA6;\n",
              "    }\n",
              "\n",
              "    [theme=dark] .colab-df-convert {\n",
              "      background-color: #3B4455;\n",
              "      fill: #D2E3FC;\n",
              "    }\n",
              "\n",
              "    [theme=dark] .colab-df-convert:hover {\n",
              "      background-color: #434B5C;\n",
              "      box-shadow: 0px 1px 3px 1px rgba(0, 0, 0, 0.15);\n",
              "      filter: drop-shadow(0px 1px 2px rgba(0, 0, 0, 0.3));\n",
              "      fill: #FFFFFF;\n",
              "    }\n",
              "  </style>\n",
              "\n",
              "      <script>\n",
              "        const buttonEl =\n",
              "          document.querySelector('#df-d3481e02-369f-4599-9c74-c3f322eaa9d0 button.colab-df-convert');\n",
              "        buttonEl.style.display =\n",
              "          google.colab.kernel.accessAllowed ? 'block' : 'none';\n",
              "\n",
              "        async function convertToInteractive(key) {\n",
              "          const element = document.querySelector('#df-d3481e02-369f-4599-9c74-c3f322eaa9d0');\n",
              "          const dataTable =\n",
              "            await google.colab.kernel.invokeFunction('convertToInteractive',\n",
              "                                                     [key], {});\n",
              "          if (!dataTable) return;\n",
              "\n",
              "          const docLinkHtml = 'Like what you see? Visit the ' +\n",
              "            '<a target=\"_blank\" href=https://colab.research.google.com/notebooks/data_table.ipynb>data table notebook</a>'\n",
              "            + ' to learn more about interactive tables.';\n",
              "          element.innerHTML = '';\n",
              "          dataTable['output_type'] = 'display_data';\n",
              "          await google.colab.output.renderOutput(dataTable, element);\n",
              "          const docLink = document.createElement('div');\n",
              "          docLink.innerHTML = docLinkHtml;\n",
              "          element.appendChild(docLink);\n",
              "        }\n",
              "      </script>\n",
              "    </div>\n",
              "  </div>\n",
              "  "
            ]
          },
          "metadata": {},
          "execution_count": 8
        }
      ]
    },
    {
      "cell_type": "code",
      "source": [
        "df.info()"
      ],
      "metadata": {
        "colab": {
          "base_uri": "https://localhost:8080/"
        },
        "id": "dcHv-Gd5zsJ_",
        "outputId": "032a649c-4d07-4820-f31d-f75da785eacd"
      },
      "execution_count": 9,
      "outputs": [
        {
          "output_type": "stream",
          "name": "stdout",
          "text": [
            "<class 'pandas.core.frame.DataFrame'>\n",
            "RangeIndex: 2035 entries, 0 to 2034\n",
            "Data columns (total 8 columns):\n",
            " #   Column                Non-Null Count  Dtype  \n",
            "---  ------                --------------  -----  \n",
            " 0   Date                  2035 non-null   object \n",
            " 1   Open                  2035 non-null   float64\n",
            " 2   High                  2035 non-null   float64\n",
            " 3   Low                   2035 non-null   float64\n",
            " 4   Last                  2035 non-null   float64\n",
            " 5   Close                 2035 non-null   float64\n",
            " 6   Total Trade Quantity  2035 non-null   int64  \n",
            " 7   Turnover (Lacs)       2035 non-null   float64\n",
            "dtypes: float64(6), int64(1), object(1)\n",
            "memory usage: 127.3+ KB\n"
          ]
        }
      ]
    },
    {
      "cell_type": "code",
      "source": [
        "df1=df.reset_index()['Close']\n",
        "df1      "
      ],
      "metadata": {
        "colab": {
          "base_uri": "https://localhost:8080/"
        },
        "id": "B4bUb4SWzvps",
        "outputId": "d0f23dec-056c-4d0a-a292-5cbd1482c980"
      },
      "execution_count": 10,
      "outputs": [
        {
          "output_type": "execute_result",
          "data": {
            "text/plain": [
              "0       233.75\n",
              "1       233.25\n",
              "2       234.25\n",
              "3       236.10\n",
              "4       233.30\n",
              "         ...  \n",
              "2030    118.65\n",
              "2031    117.60\n",
              "2032    120.65\n",
              "2033    120.90\n",
              "2034    121.55\n",
              "Name: Close, Length: 2035, dtype: float64"
            ]
          },
          "metadata": {},
          "execution_count": 10
        }
      ]
    },
    {
      "cell_type": "code",
      "source": [
        "df1.shape"
      ],
      "metadata": {
        "colab": {
          "base_uri": "https://localhost:8080/"
        },
        "id": "Xs1Bsry1zyS7",
        "outputId": "fe5200e6-1179-467e-cb11-d2b5767b368a"
      },
      "execution_count": 11,
      "outputs": [
        {
          "output_type": "execute_result",
          "data": {
            "text/plain": [
              "(2035,)"
            ]
          },
          "metadata": {},
          "execution_count": 11
        }
      ]
    },
    {
      "cell_type": "code",
      "source": [
        "plt.plot(df1)\n",
        "plt.rcParams['figure.figsize'] = [15,7]\n",
        "plt.title('CLOSING GRAPH OF STOCK-MARKET')"
      ],
      "metadata": {
        "colab": {
          "base_uri": "https://localhost:8080/",
          "height": 298
        },
        "id": "XMyk4zLzz0cr",
        "outputId": "2f09abc0-c5c5-4ce6-a704-8cb5cade6d3b"
      },
      "execution_count": 12,
      "outputs": [
        {
          "output_type": "execute_result",
          "data": {
            "text/plain": [
              "Text(0.5, 1.0, 'CLOSING GRAPH OF STOCK-MARKET')"
            ]
          },
          "metadata": {},
          "execution_count": 12
        },
        {
          "output_type": "display_data",
          "data": {
            "text/plain": [
              "<Figure size 432x288 with 1 Axes>"
            ],
            "image/png": "[encoded data removed]"
          },
          "metadata": {
            "needs_background": "light"
          }
        }
      ]
    },
    {
      "cell_type": "markdown",
      "source": [
        " # Minmaxscaler"
      ],
      "metadata": {
        "id": "JDbKKNxNz8gL"
      }
    },
    {
      "cell_type": "code",
      "source": [
        "scaler = MinMaxScaler(feature_range=(0,1))   # to scale down everything b/w 0 n 1\n",
        "df1 = scaler.fit_transform(np.array(df1).reshape(-1,1))\n",
        "df1"
      ],
      "metadata": {
        "colab": {
          "base_uri": "https://localhost:8080/"
        },
        "id": "nOTbp6eLz2qS",
        "outputId": "5d10e6f8-c63c-4064-a758-6aac6c8823ac"
      },
      "execution_count": 13,
      "outputs": [
        {
          "output_type": "execute_result",
          "data": {
            "text/plain": [
              "array([[0.62418301],\n",
              "       [0.62214052],\n",
              "       [0.62622549],\n",
              "       ...,\n",
              "       [0.1621732 ],\n",
              "       [0.16319444],\n",
              "       [0.16584967]])"
            ]
          },
          "metadata": {},
          "execution_count": 13
        }
      ]
    },
    {
      "cell_type": "markdown",
      "source": [
        "# PREPROCESSING : TEST-TRAIN SPLIT"
      ],
      "metadata": {
        "id": "NILVDQq30EEq"
      }
    },
    {
      "cell_type": "code",
      "source": [
        "train_size = int(len(df1)*0.7)      # taking 70 % data as training data \n",
        "test_size = len(df1)-train_size     # rest 30 % as testing data\n",
        "\n",
        "train_data = df1[0:train_size,:]\n",
        "test_data = df1[train_size:len(df1),:]"
      ],
      "metadata": {
        "id": "wIYOzpc00GSc"
      },
      "execution_count": 14,
      "outputs": []
    },
    {
      "cell_type": "code",
      "source": [
        "train_data.shape"
      ],
      "metadata": {
        "colab": {
          "base_uri": "https://localhost:8080/"
        },
        "id": "NLySh2K50JeH",
        "outputId": "eb43aade-0263-4fc9-912a-01b1b8bb84cb"
      },
      "execution_count": 15,
      "outputs": [
        {
          "output_type": "execute_result",
          "data": {
            "text/plain": [
              "(1424, 1)"
            ]
          },
          "metadata": {},
          "execution_count": 15
        }
      ]
    },
    {
      "cell_type": "code",
      "source": [
        "test_data.shape"
      ],
      "metadata": {
        "colab": {
          "base_uri": "https://localhost:8080/"
        },
        "id": "-L48Hkui0Ocs",
        "outputId": "7cd5d9c9-0664-4912-cf88-e3356b3b86a0"
      },
      "execution_count": 16,
      "outputs": [
        {
          "output_type": "execute_result",
          "data": {
            "text/plain": [
              "(611, 1)"
            ]
          },
          "metadata": {},
          "execution_count": 16
        }
      ]
    },
    {
      "cell_type": "markdown",
      "source": [
        "# Timesteps to predict the future data "
      ],
      "metadata": {
        "id": "yYJG6_YR0STp"
      }
    },
    {
      "cell_type": "code",
      "source": [
        "def select_data(dataset, time_step=1):\n",
        "    dataX, dataY = [], []\n",
        "    for i in range(len(dataset)-time_step-1):\n",
        "        dataX.append(dataset[i:(i+time_step), 0])\n",
        "        dataY.append(dataset[i + time_step, 0])\n",
        "    return np.array(dataX), np.array(dataY)"
      ],
      "metadata": {
        "id": "yN9tXBJS0RHW"
      },
      "execution_count": 17,
      "outputs": []
    },
    {
      "cell_type": "code",
      "source": [
        "timestep = 200\n",
        "\n",
        "X_train, y_train = select_data(train_data, timestep)\n",
        "X_test, y_test = select_data(test_data, timestep)\n",
        "X_train, y_train"
      ],
      "metadata": {
        "colab": {
          "base_uri": "https://localhost:8080/"
        },
        "id": "m45v4fjs0a-t",
        "outputId": "7ffed930-331b-4f25-90a8-25d80b282f9a"
      },
      "execution_count": 18,
      "outputs": [
        {
          "output_type": "execute_result",
          "data": {
            "text/plain": [
              "(array([[0.62418301, 0.62214052, 0.62622549, ..., 0.84497549, 0.8880719 ,\n",
              "         0.84763072],\n",
              "        [0.62214052, 0.62622549, 0.63378268, ..., 0.8880719 , 0.84763072,\n",
              "         0.82945261],\n",
              "        [0.62622549, 0.63378268, 0.62234477, ..., 0.84763072, 0.82945261,\n",
              "         0.79248366],\n",
              "        ...,\n",
              "        [0.33047386, 0.32128268, 0.34007353, ..., 0.33415033, 0.33986928,\n",
              "         0.34681373],\n",
              "        [0.32128268, 0.34007353, 0.3310866 , ..., 0.33986928, 0.34681373,\n",
              "         0.3500817 ],\n",
              "        [0.34007353, 0.3310866 , 0.31495098, ..., 0.34681373, 0.3500817 ,\n",
              "         0.32618464]]),\n",
              " array([0.82945261, 0.79248366, 0.8129085 , ..., 0.3500817 , 0.32618464,\n",
              "        0.32271242]))"
            ]
          },
          "metadata": {},
          "execution_count": 18
        }
      ]
    },
    {
      "cell_type": "code",
      "source": [
        "X_test, y_test"
      ],
      "metadata": {
        "colab": {
          "base_uri": "https://localhost:8080/"
        },
        "id": "OCscOg030clK",
        "outputId": "87de4c65-f036-4b00-e272-1e6f4cc9d39a"
      },
      "execution_count": 19,
      "outputs": [
        {
          "output_type": "execute_result",
          "data": {
            "text/plain": [
              "(array([[0.32148693, 0.32352941, 0.3255719 , ..., 0.16115196, 0.15175654,\n",
              "         0.14644608],\n",
              "        [0.32352941, 0.3255719 , 0.32638889, ..., 0.15175654, 0.14644608,\n",
              "         0.15216503],\n",
              "        [0.3255719 , 0.32638889, 0.33496732, ..., 0.14644608, 0.15216503,\n",
              "         0.1435866 ],\n",
              "        ...,\n",
              "        [0.06944444, 0.08088235, 0.07700163, ..., 0.14562908, 0.15236928,\n",
              "         0.15400327],\n",
              "        [0.08088235, 0.07700163, 0.0684232 , ..., 0.15236928, 0.15400327,\n",
              "         0.14971405],\n",
              "        [0.07700163, 0.0684232 , 0.06781046, ..., 0.15400327, 0.14971405,\n",
              "         0.1621732 ]]),\n",
              " array([0.15216503, 0.1435866 , 0.13419118, 0.1431781 , 0.16115196,\n",
              "        0.16176471, 0.17320261, 0.18218954, 0.16237745, 0.13112745,\n",
              "        0.15931373, 0.15951797, 0.14808007, 0.16278595, 0.15625   ,\n",
              "        0.16319444, 0.16360294, 0.16278595, 0.16544118, 0.15522876,\n",
              "        0.17197712, 0.1503268 , 0.13255719, 0.14338235, 0.15849673,\n",
              "        0.1186683 , 0.11519608, 0.10947712, 0.0692402 , 0.06597222,\n",
              "        0.05841503, 0.05044935, 0.04534314, 0.04779412, 0.05290033,\n",
              "        0.04922386, 0.06638072, 0.07169118, 0.05392157, 0.04881536,\n",
              "        0.04881536, 0.05310458, 0.04963235, 0.05065359, 0.05126634,\n",
              "        0.04963235, 0.05902778, 0.05555556, 0.04084967, 0.03737745,\n",
              "        0.03737745, 0.02655229, 0.02879902, 0.0316585 , 0.0316585 ,\n",
              "        0.03635621, 0.02205882, 0.01674837, 0.01450163, 0.02226307,\n",
              "        0.03615196, 0.02675654, 0.03206699, 0.02696078, 0.03574346,\n",
              "        0.03594771, 0.04044118, 0.03921569, 0.04411765, 0.02982026,\n",
              "        0.0122549 , 0.01286765, 0.01143791, 0.00245098, 0.0059232 ,\n",
              "        0.        , 0.00714869, 0.00428922, 0.0067402 , 0.0063317 ,\n",
              "        0.01123366, 0.01960784, 0.02757353, 0.03002451, 0.03349673,\n",
              "        0.04003268, 0.04084967, 0.03982843, 0.04166667, 0.04370915,\n",
              "        0.04758987, 0.03594771, 0.02839052, 0.02410131, 0.01715686,\n",
              "        0.01531863, 0.01756536, 0.02696078, 0.02696078, 0.03819444,\n",
              "        0.02839052, 0.02369281, 0.02920752, 0.02328431, 0.01919935,\n",
              "        0.00653595, 0.00061275, 0.00796569, 0.01245915, 0.01981209,\n",
              "        0.01940359, 0.02246732, 0.03125   , 0.02348856, 0.0249183 ,\n",
              "        0.02144608, 0.04840686, 0.04575163, 0.03962418, 0.03921569,\n",
              "        0.04758987, 0.04513889, 0.04166667, 0.04125817, 0.05044935,\n",
              "        0.05555556, 0.05494281, 0.05412582, 0.0435049 , 0.04799837,\n",
              "        0.05147059, 0.05065359, 0.03431373, 0.04575163, 0.04187092,\n",
              "        0.04554739, 0.03941993, 0.02716503, 0.03125   , 0.05882353,\n",
              "        0.07148693, 0.08721405, 0.08986928, 0.10498366, 0.08905229,\n",
              "        0.10355392, 0.10375817, 0.12275327, 0.10906863, 0.09660948,\n",
              "        0.1064134 , 0.10457516, 0.11049837, 0.1127451 , 0.09803922,\n",
              "        0.09987745, 0.08925654, 0.0747549 , 0.08169935, 0.08925654,\n",
              "        0.09068627, 0.08129085, 0.08823529, 0.08455882, 0.07945261,\n",
              "        0.08374183, 0.07781863, 0.09824346, 0.09089052, 0.09007353,\n",
              "        0.09558824, 0.06862745, 0.06372549, 0.0494281 , 0.04799837,\n",
              "        0.04534314, 0.0443219 , 0.03941993, 0.0379902 , 0.04656863,\n",
              "        0.05085784, 0.07209967, 0.06535948, 0.07230392, 0.07802288,\n",
              "        0.07741013, 0.06086601, 0.06413399, 0.07046569, 0.05412582,\n",
              "        0.0498366 , 0.05167484, 0.05330882, 0.0435049 , 0.02634804,\n",
              "        0.02410131, 0.02961601, 0.01960784, 0.02961601, 0.04575163,\n",
              "        0.05923203, 0.06678922, 0.06229575, 0.06311275, 0.0629085 ,\n",
              "        0.06658497, 0.07434641, 0.06944444, 0.08088235, 0.07700163,\n",
              "        0.0684232 , 0.06781046, 0.0629085 , 0.0692402 , 0.0755719 ,\n",
              "        0.07781863, 0.08088235, 0.08843954, 0.09395425, 0.09599673,\n",
              "        0.08660131, 0.09027778, 0.08517157, 0.08374183, 0.07945261,\n",
              "        0.09109477, 0.09129902, 0.08803105, 0.09681373, 0.11417484,\n",
              "        0.10498366, 0.09987745, 0.08537582, 0.08047386, 0.06862745,\n",
              "        0.06576797, 0.06147876, 0.07169118, 0.07026144, 0.0747549 ,\n",
              "        0.06821895, 0.0692402 , 0.07066993, 0.06801471, 0.06678922,\n",
              "        0.07414216, 0.07169118, 0.08639706, 0.08312908, 0.06311275,\n",
              "        0.0629085 , 0.05167484, 0.03186275, 0.04003268, 0.03860294,\n",
              "        0.04105392, 0.03390523, 0.03125   , 0.02634804, 0.05861928,\n",
              "        0.06311275, 0.0620915 , 0.05535131, 0.08455882, 0.05514706,\n",
              "        0.06045752, 0.0557598 , 0.0439134 , 0.02920752, 0.02818627,\n",
              "        0.04718137, 0.06045752, 0.05861928, 0.06168301, 0.06699346,\n",
              "        0.07087418, 0.0755719 , 0.07700163, 0.10375817, 0.10314542,\n",
              "        0.10334967, 0.10089869, 0.10437092, 0.09803922, 0.09722222,\n",
              "        0.09783497, 0.09579248, 0.09109477, 0.09313725, 0.08558007,\n",
              "        0.09517974, 0.11172386, 0.12275327, 0.12806373, 0.1313317 ,\n",
              "        0.12479575, 0.11090686, 0.10743464, 0.11621732, 0.11683007,\n",
              "        0.11764706, 0.12888072, 0.12847222, 0.13337418, 0.14236111,\n",
              "        0.14093137, 0.13970588, 0.13827614, 0.13541667, 0.13010621,\n",
              "        0.12254902, 0.12479575, 0.13848039, 0.14011438, 0.13888889,\n",
              "        0.13541667, 0.14011438, 0.1380719 , 0.13071895, 0.13071895,\n",
              "        0.12867647, 0.11846405, 0.14644608, 0.14808007, 0.15910948,\n",
              "        0.15992647, 0.15788399, 0.16441993, 0.17892157, 0.17933007,\n",
              "        0.19260621, 0.20812908, 0.18974673, 0.18055556, 0.18239379,\n",
              "        0.17708333, 0.17810458, 0.18055556, 0.17810458, 0.17851307,\n",
              "        0.19607843, 0.18913399, 0.18954248, 0.19403595, 0.19444444,\n",
              "        0.20200163, 0.19771242, 0.19934641, 0.19873366, 0.1997549 ,\n",
              "        0.2128268 , 0.21568627, 0.20445261, 0.21772876, 0.21098856,\n",
              "        0.21425654, 0.19750817, 0.18811275, 0.17851307, 0.17381536,\n",
              "        0.16033497, 0.16564542, 0.17116013, 0.17422386, 0.18035131,\n",
              "        0.17401961, 0.16278595, 0.16973039, 0.17810458, 0.17034314,\n",
              "        0.16830065, 0.17279412, 0.17544935, 0.18382353, 0.19138072,\n",
              "        0.18913399, 0.19097222, 0.17238562, 0.16830065, 0.1693219 ,\n",
              "        0.17177288, 0.16156046, 0.14971405, 0.1503268 , 0.15196078,\n",
              "        0.14726307, 0.14501634, 0.14603758, 0.12479575, 0.13112745,\n",
              "        0.11397059, 0.1190768 , 0.12377451, 0.13562092, 0.12908497,\n",
              "        0.13459967, 0.12806373, 0.13031046, 0.12724673, 0.13521242,\n",
              "        0.14522059, 0.15257353, 0.14848856, 0.14338235, 0.14562908,\n",
              "        0.15236928, 0.15400327, 0.14971405, 0.1621732 , 0.16319444]))"
            ]
          },
          "metadata": {},
          "execution_count": 19
        }
      ]
    },
    {
      "cell_type": "code",
      "source": [
        "X_train = X_train.reshape(X_train.shape[0],X_train.shape[1] , 1)\n",
        "X_test = X_test.reshape(X_test.shape[0],X_test.shape[1] , 1)\n",
        "model=Sequential()\n",
        "model.add(LSTM(50,return_sequences=True,input_shape=(timestep,1)))\n",
        "model.add(Dropout(0.2))\n",
        "\n",
        "model.add(LSTM(50,return_sequences=True))\n",
        "model.add(Dropout(0.2))\n",
        "\n",
        "model.add(LSTM(50))\n",
        "model.add(Dropout(0.2))\n",
        "\n",
        "model.add(Dense(1))\n",
        "model.compile(loss='mean_squared_error',optimizer='adam')\n",
        "model.summary()\n",
        "model.fit(X_train, y_train, validation_data = (X_test, y_test),epochs = 50,batch_size = 32, verbose=1)"
      ],
      "metadata": {
        "colab": {
          "base_uri": "https://localhost:8080/"
        },
        "id": "ibfsU97v0jmo",
        "outputId": "229094c1-1f1f-4ec3-a3fc-5d30444fcbb4"
      },
      "execution_count": 20,
      "outputs": [
        {
          "output_type": "stream",
          "name": "stdout",
          "text": [
            "Model: \"sequential\"\n",
            "_________________________________________________________________\n",
            " Layer (type)                Output Shape              Param #   \n",
            "=================================================================\n",
            " lstm (LSTM)                 (None, 200, 50)           10400     \n",
            "                                                                 \n",
            " dropout (Dropout)           (None, 200, 50)           0         \n",
            "                                                                 \n",
            " lstm_1 (LSTM)               (None, 200, 50)           20200     \n",
            "                                                                 \n",
            " dropout_1 (Dropout)         (None, 200, 50)           0         \n",
            "                                                                 \n",
            " lstm_2 (LSTM)               (None, 50)                20200     \n",
            "                                                                 \n",
            " dropout_2 (Dropout)         (None, 50)                0         \n",
            "                                                                 \n",
            " dense (Dense)               (None, 1)                 51        \n",
            "                                                                 \n",
            "=================================================================\n",
            "Total params: 50,851\n",
            "Trainable params: 50,851\n",
            "Non-trainable params: 0\n",
            "_________________________________________________________________\n",
            "Epoch 1/50\n",
            "39/39 [==============================] - 21s 394ms/step - loss: 0.0085 - val_loss: 0.0039\n",
            "Epoch 2/50\n",
            "39/39 [==============================] - 12s 308ms/step - loss: 0.0020 - val_loss: 0.0025\n",
            "Epoch 3/50\n",
            "39/39 [==============================] - 14s 347ms/step - loss: 0.0019 - val_loss: 0.0010\n",
            "Epoch 4/50\n",
            "39/39 [==============================] - 12s 313ms/step - loss: 0.0017 - val_loss: 0.0022\n",
            "Epoch 5/50\n",
            "39/39 [==============================] - 12s 312ms/step - loss: 0.0019 - val_loss: 0.0013\n",
            "Epoch 6/50\n",
            "39/39 [==============================] - 12s 308ms/step - loss: 0.0017 - val_loss: 0.0015\n",
            "Epoch 7/50\n",
            "39/39 [==============================] - 12s 312ms/step - loss: 0.0016 - val_loss: 9.9102e-04\n",
            "Epoch 8/50\n",
            "39/39 [==============================] - 12s 310ms/step - loss: 0.0017 - val_loss: 7.5288e-04\n",
            "Epoch 9/50\n",
            "39/39 [==============================] - 12s 310ms/step - loss: 0.0013 - val_loss: 7.7373e-04\n",
            "Epoch 10/50\n",
            "39/39 [==============================] - 12s 313ms/step - loss: 0.0013 - val_loss: 7.7961e-04\n",
            "Epoch 11/50\n",
            "39/39 [==============================] - 12s 312ms/step - loss: 0.0015 - val_loss: 0.0012\n",
            "Epoch 12/50\n",
            "39/39 [==============================] - 12s 306ms/step - loss: 0.0013 - val_loss: 6.7855e-04\n",
            "Epoch 13/50\n",
            "39/39 [==============================] - 12s 309ms/step - loss: 0.0013 - val_loss: 4.7688e-04\n",
            "Epoch 14/50\n",
            "39/39 [==============================] - 12s 312ms/step - loss: 0.0013 - val_loss: 0.0015\n",
            "Epoch 15/50\n",
            "39/39 [==============================] - 12s 312ms/step - loss: 0.0011 - val_loss: 8.2612e-04\n",
            "Epoch 16/50\n",
            "39/39 [==============================] - 12s 309ms/step - loss: 0.0011 - val_loss: 6.8347e-04\n",
            "Epoch 17/50\n",
            "39/39 [==============================] - 12s 310ms/step - loss: 0.0012 - val_loss: 6.3969e-04\n",
            "Epoch 18/50\n",
            "39/39 [==============================] - 12s 308ms/step - loss: 0.0010 - val_loss: 5.9154e-04\n",
            "Epoch 19/50\n",
            "39/39 [==============================] - 12s 308ms/step - loss: 0.0011 - val_loss: 0.0011\n",
            "Epoch 20/50\n",
            "39/39 [==============================] - 12s 310ms/step - loss: 8.8653e-04 - val_loss: 8.1381e-04\n",
            "Epoch 21/50\n",
            "39/39 [==============================] - 12s 311ms/step - loss: 9.9413e-04 - val_loss: 7.4868e-04\n",
            "Epoch 22/50\n",
            "39/39 [==============================] - 12s 310ms/step - loss: 9.9561e-04 - val_loss: 3.6456e-04\n",
            "Epoch 23/50\n",
            "39/39 [==============================] - 12s 310ms/step - loss: 9.6281e-04 - val_loss: 4.6386e-04\n",
            "Epoch 24/50\n",
            "39/39 [==============================] - 12s 309ms/step - loss: 9.6740e-04 - val_loss: 3.6016e-04\n",
            "Epoch 25/50\n",
            "39/39 [==============================] - 12s 311ms/step - loss: 8.5207e-04 - val_loss: 4.7117e-04\n",
            "Epoch 26/50\n",
            "39/39 [==============================] - 12s 308ms/step - loss: 9.4549e-04 - val_loss: 3.6661e-04\n",
            "Epoch 27/50\n",
            "39/39 [==============================] - 12s 308ms/step - loss: 0.0010 - val_loss: 0.0014\n",
            "Epoch 28/50\n",
            "39/39 [==============================] - 12s 311ms/step - loss: 8.1605e-04 - val_loss: 4.4283e-04\n",
            "Epoch 29/50\n",
            "39/39 [==============================] - 12s 309ms/step - loss: 8.0934e-04 - val_loss: 4.1866e-04\n",
            "Epoch 30/50\n",
            "39/39 [==============================] - 12s 315ms/step - loss: 8.0669e-04 - val_loss: 3.9522e-04\n",
            "Epoch 31/50\n",
            "39/39 [==============================] - 12s 313ms/step - loss: 7.2588e-04 - val_loss: 3.6165e-04\n",
            "Epoch 32/50\n",
            "39/39 [==============================] - 12s 310ms/step - loss: 7.5324e-04 - val_loss: 3.6797e-04\n",
            "Epoch 33/50\n",
            "39/39 [==============================] - 12s 312ms/step - loss: 8.2136e-04 - val_loss: 0.0012\n",
            "Epoch 34/50\n",
            "39/39 [==============================] - 12s 310ms/step - loss: 7.9878e-04 - val_loss: 3.8214e-04\n",
            "Epoch 35/50\n",
            "39/39 [==============================] - 12s 309ms/step - loss: 6.1778e-04 - val_loss: 3.8341e-04\n",
            "Epoch 36/50\n",
            "39/39 [==============================] - 12s 309ms/step - loss: 7.5320e-04 - val_loss: 6.7482e-04\n",
            "Epoch 37/50\n",
            "39/39 [==============================] - 12s 308ms/step - loss: 6.5744e-04 - val_loss: 6.6927e-04\n",
            "Epoch 38/50\n",
            "39/39 [==============================] - 12s 308ms/step - loss: 7.2055e-04 - val_loss: 3.8645e-04\n",
            "Epoch 39/50\n",
            "39/39 [==============================] - 12s 311ms/step - loss: 6.4322e-04 - val_loss: 3.7487e-04\n",
            "Epoch 40/50\n",
            "39/39 [==============================] - 12s 309ms/step - loss: 6.9979e-04 - val_loss: 4.6442e-04\n",
            "Epoch 41/50\n",
            "39/39 [==============================] - 12s 310ms/step - loss: 7.6943e-04 - val_loss: 3.2764e-04\n",
            "Epoch 42/50\n",
            "39/39 [==============================] - 12s 308ms/step - loss: 6.3612e-04 - val_loss: 2.9589e-04\n",
            "Epoch 43/50\n",
            "39/39 [==============================] - 12s 309ms/step - loss: 6.5157e-04 - val_loss: 2.6462e-04\n",
            "Epoch 44/50\n",
            "39/39 [==============================] - 12s 311ms/step - loss: 6.6844e-04 - val_loss: 2.5105e-04\n",
            "Epoch 45/50\n",
            "39/39 [==============================] - 12s 311ms/step - loss: 6.2312e-04 - val_loss: 2.7378e-04\n",
            "Epoch 46/50\n",
            "39/39 [==============================] - 12s 310ms/step - loss: 5.9548e-04 - val_loss: 3.1746e-04\n",
            "Epoch 47/50\n",
            "39/39 [==============================] - 12s 313ms/step - loss: 5.8552e-04 - val_loss: 2.4489e-04\n",
            "Epoch 48/50\n",
            "39/39 [==============================] - 12s 314ms/step - loss: 5.8871e-04 - val_loss: 2.3322e-04\n",
            "Epoch 49/50\n",
            "39/39 [==============================] - 12s 310ms/step - loss: 6.1308e-04 - val_loss: 2.3997e-04\n",
            "Epoch 50/50\n",
            "39/39 [==============================] - 12s 311ms/step - loss: 6.0090e-04 - val_loss: 2.4241e-04\n"
          ]
        },
        {
          "output_type": "execute_result",
          "data": {
            "text/plain": [
              "<keras.callbacks.History at 0x7f2bb0be9990>"
            ]
          },
          "metadata": {},
          "execution_count": 20
        }
      ]
    },
    {
      "cell_type": "markdown",
      "source": [
        "# DOING PREDICTIONS"
      ],
      "metadata": {
        "id": "no8T8arFXwSX"
      }
    },
    {
      "cell_type": "code",
      "source": [
        "train_predict=model.predict(X_train)       # output for train dataset\n",
        "test_predict=model.predict(X_test)        # output for test dataset\n",
        "\n",
        "train_predict=scaler.inverse_transform(train_predict)\n",
        "test_predict=scaler.inverse_transform(test_predict)"
      ],
      "metadata": {
        "id": "cUf6zqItXyG7"
      },
      "execution_count": 21,
      "outputs": []
    },
    {
      "cell_type": "code",
      "source": [
        "train_predict"
      ],
      "metadata": {
        "colab": {
          "base_uri": "https://localhost:8080/"
        },
        "id": "6j3wOp_NbMC9",
        "outputId": "71f6c9b6-56df-42ac-febb-bc5726ab6188"
      },
      "execution_count": 22,
      "outputs": [
        {
          "output_type": "execute_result",
          "data": {
            "text/plain": [
              "array([[282.29962],\n",
              "       [282.48492],\n",
              "       [279.69562],\n",
              "       ...,\n",
              "       [160.5704 ],\n",
              "       [161.44356],\n",
              "       [161.41275]], dtype=float32)"
            ]
          },
          "metadata": {},
          "execution_count": 22
        }
      ]
    },
    {
      "cell_type": "code",
      "source": [
        "test_predict"
      ],
      "metadata": {
        "colab": {
          "base_uri": "https://localhost:8080/"
        },
        "id": "t2k55_kMbPAT",
        "outputId": "55fd95ba-ee45-4833-a7f4-3b98a42b60f1"
      },
      "execution_count": 23,
      "outputs": [
        {
          "output_type": "execute_result",
          "data": {
            "text/plain": [
              "array([[116.04995 ],\n",
              "       [116.66493 ],\n",
              "       [116.65561 ],\n",
              "       [115.88795 ],\n",
              "       [114.9838  ],\n",
              "       [114.84192 ],\n",
              "       [115.45619 ],\n",
              "       [116.834946],\n",
              "       [118.81141 ],\n",
              "       [120.21577 ],\n",
              "       [119.76662 ],\n",
              "       [118.78628 ],\n",
              "       [117.94735 ],\n",
              "       [117.112656],\n",
              "       [116.826836],\n",
              "       [116.86773 ],\n",
              "       [117.28308 ],\n",
              "       [117.91639 ],\n",
              "       [118.543434],\n",
              "       [119.11469 ],\n",
              "       [119.23498 ],\n",
              "       [119.4896  ],\n",
              "       [119.24876 ],\n",
              "       [117.99625 ],\n",
              "       [116.48486 ],\n",
              "       [115.6882  ],\n",
              "       [114.44527 ],\n",
              "       [112.68013 ],\n",
              "       [110.63432 ],\n",
              "       [107.51442 ],\n",
              "       [103.82118 ],\n",
              "       [100.15808 ],\n",
              "       [ 96.91694 ],\n",
              "       [ 94.32674 ],\n",
              "       [ 92.63777 ],\n",
              "       [ 91.986885],\n",
              "       [ 92.03551 ],\n",
              "       [ 92.962364],\n",
              "       [ 94.56014 ],\n",
              "       [ 95.78143 ],\n",
              "       [ 96.14247 ],\n",
              "       [ 95.75521 ],\n",
              "       [ 95.07078 ],\n",
              "       [ 94.2722  ],\n",
              "       [ 93.553314],\n",
              "       [ 93.02823 ],\n",
              "       [ 92.662506],\n",
              "       [ 92.70964 ],\n",
              "       [ 92.97995 ],\n",
              "       [ 92.85914 ],\n",
              "       [ 92.22488 ],\n",
              "       [ 91.30754 ],\n",
              "       [ 90.063   ],\n",
              "       [ 88.8124  ],\n",
              "       [ 87.88985 ],\n",
              "       [ 87.38994 ],\n",
              "       [ 87.39538 ],\n",
              "       [ 87.333   ],\n",
              "       [ 86.91852 ],\n",
              "       [ 86.18899 ],\n",
              "       [ 85.587326],\n",
              "       [ 85.67911 ],\n",
              "       [ 86.08902 ],\n",
              "       [ 86.69707 ],\n",
              "       [ 87.17424 ],\n",
              "       [ 87.67131 ],\n",
              "       [ 88.16581 ],\n",
              "       [ 88.71502 ],\n",
              "       [ 89.2023  ],\n",
              "       [ 89.69276 ],\n",
              "       [ 89.707886],\n",
              "       [ 88.750114],\n",
              "       [ 87.15997 ],\n",
              "       [ 85.41172 ],\n",
              "       [ 83.64399 ],\n",
              "       [ 82.2206  ],\n",
              "       [ 81.136086],\n",
              "       [ 80.620384],\n",
              "       [ 80.537285],\n",
              "       [ 80.78914 ],\n",
              "       [ 81.20048 ],\n",
              "       [ 81.76509 ],\n",
              "       [ 82.60829 ],\n",
              "       [ 83.79823 ],\n",
              "       [ 85.15112 ],\n",
              "       [ 86.48131 ],\n",
              "       [ 87.762146],\n",
              "       [ 88.855   ],\n",
              "       [ 89.603516],\n",
              "       [ 90.03206 ],\n",
              "       [ 90.25554 ],\n",
              "       [ 90.45558 ],\n",
              "       [ 90.30896 ],\n",
              "       [ 89.63513 ],\n",
              "       [ 88.5299  ],\n",
              "       [ 87.10971 ],\n",
              "       [ 85.6455  ],\n",
              "       [ 84.48493 ],\n",
              "       [ 84.0512  ],\n",
              "       [ 84.27852 ],\n",
              "       [ 85.23386 ],\n",
              "       [ 86.2867  ],\n",
              "       [ 86.95901 ],\n",
              "       [ 87.33791 ],\n",
              "       [ 87.331024],\n",
              "       [ 86.920364],\n",
              "       [ 85.91428 ],\n",
              "       [ 84.41208 ],\n",
              "       [ 83.01232 ],\n",
              "       [ 82.15183 ],\n",
              "       [ 82.0872  ],\n",
              "       [ 82.614716],\n",
              "       [ 83.49971 ],\n",
              "       [ 84.709206],\n",
              "       [ 85.7451  ],\n",
              "       [ 86.436554],\n",
              "       [ 86.6657  ],\n",
              "       [ 87.3266  ],\n",
              "       [ 88.353424],\n",
              "       [ 89.26682 ],\n",
              "       [ 89.83585 ],\n",
              "       [ 90.29334 ],\n",
              "       [ 90.60834 ],\n",
              "       [ 90.67014 ],\n",
              "       [ 90.5131  ],\n",
              "       [ 90.51814 ],\n",
              "       [ 90.88835 ],\n",
              "       [ 91.485954],\n",
              "       [ 92.09365 ],\n",
              "       [ 92.25569 ],\n",
              "       [ 92.122444],\n",
              "       [ 91.96814 ],\n",
              "       [ 91.872444],\n",
              "       [ 91.35937 ],\n",
              "       [ 90.85254 ],\n",
              "       [ 90.42536 ],\n",
              "       [ 90.23511 ],\n",
              "       [ 90.0888  ],\n",
              "       [ 89.57451 ],\n",
              "       [ 88.89945 ],\n",
              "       [ 89.094444],\n",
              "       [ 90.509285],\n",
              "       [ 93.11081 ],\n",
              "       [ 96.219185],\n",
              "       [ 99.526764],\n",
              "       [101.94588 ],\n",
              "       [103.61719 ],\n",
              "       [104.621284],\n",
              "       [105.65669 ],\n",
              "       [106.31324 ],\n",
              "       [106.12323 ],\n",
              "       [105.59164 ],\n",
              "       [104.98948 ],\n",
              "       [104.67836 ],\n",
              "       [104.76982 ],\n",
              "       [104.692444],\n",
              "       [104.43717 ],\n",
              "       [103.79165 ],\n",
              "       [102.49446 ],\n",
              "       [101.10559 ],\n",
              "       [100.234764],\n",
              "       [100.02989 ],\n",
              "       [100.04238 ],\n",
              "       [100.29543 ],\n",
              "       [100.57797 ],\n",
              "       [100.6347  ],\n",
              "       [100.60437 ],\n",
              "       [100.37898 ],\n",
              "       [100.649796],\n",
              "       [101.16419 ],\n",
              "       [101.66385 ],\n",
              "       [102.18552 ],\n",
              "       [101.83062 ],\n",
              "       [100.562065],\n",
              "       [ 98.42932 ],\n",
              "       [ 95.98015 ],\n",
              "       [ 93.706635],\n",
              "       [ 91.93936 ],\n",
              "       [ 90.67498 ],\n",
              "       [ 89.86361 ],\n",
              "       [ 89.70544 ],\n",
              "       [ 90.19134 ],\n",
              "       [ 91.680565],\n",
              "       [ 93.53485 ],\n",
              "       [ 95.413635],\n",
              "       [ 97.14335 ],\n",
              "       [ 98.473946],\n",
              "       [ 98.781784],\n",
              "       [ 98.301186],\n",
              "       [ 97.61488 ],\n",
              "       [ 96.52904 ],\n",
              "       [ 95.12635 ],\n",
              "       [ 93.773056],\n",
              "       [ 92.77528 ],\n",
              "       [ 91.92994 ],\n",
              "       [ 90.73079 ],\n",
              "       [ 89.26062 ],\n",
              "       [ 88.00215 ],\n",
              "       [ 86.88993 ],\n",
              "       [ 86.29383 ],\n",
              "       [ 86.70423 ],\n",
              "       [ 88.27026 ],\n",
              "       [ 90.66429 ],\n",
              "       [ 93.06053 ],\n",
              "       [ 94.94    ],\n",
              "       [ 96.087906],\n",
              "       [ 96.65424 ],\n",
              "       [ 97.03004 ],\n",
              "       [ 97.17004 ],\n",
              "       [ 97.45538 ],\n",
              "       [ 97.7721  ],\n",
              "       [ 97.76482 ],\n",
              "       [ 97.4324  ],\n",
              "       [ 96.78814 ],\n",
              "       [ 96.22466 ],\n",
              "       [ 96.09201 ],\n",
              "       [ 96.4252  ],\n",
              "       [ 97.126816],\n",
              "       [ 98.19025 ],\n",
              "       [ 99.52644 ],\n",
              "       [100.90809 ],\n",
              "       [101.7877  ],\n",
              "       [102.19393 ],\n",
              "       [102.09273 ],\n",
              "       [101.61954 ],\n",
              "       [100.86928 ],\n",
              "       [100.41727 ],\n",
              "       [100.3795  ],\n",
              "       [100.54508 ],\n",
              "       [101.03928 ],\n",
              "       [102.26231 ],\n",
              "       [103.62294 ],\n",
              "       [104.57408 ],\n",
              "       [104.54602 ],\n",
              "       [103.59349 ],\n",
              "       [101.82543 ],\n",
              "       [ 99.701614],\n",
              "       [ 97.61551 ],\n",
              "       [ 96.23825 ],\n",
              "       [ 95.64513 ],\n",
              "       [ 95.8024  ],\n",
              "       [ 96.232414],\n",
              "       [ 96.69588 ],\n",
              "       [ 97.111534],\n",
              "       [ 97.34448 ],\n",
              "       [ 97.35339 ],\n",
              "       [ 97.423996],\n",
              "       [ 97.52192 ],\n",
              "       [ 98.05376 ],\n",
              "       [ 98.801796],\n",
              "       [ 98.90956 ],\n",
              "       [ 98.34651 ],\n",
              "       [ 97.0765  ],\n",
              "       [ 94.90451 ],\n",
              "       [ 92.61285 ],\n",
              "       [ 90.708015],\n",
              "       [ 89.506424],\n",
              "       [ 88.795494],\n",
              "       [ 88.36443 ],\n",
              "       [ 87.980125],\n",
              "       [ 88.582565],\n",
              "       [ 90.16698 ],\n",
              "       [ 92.14921 ],\n",
              "       [ 93.76338 ],\n",
              "       [ 95.604095],\n",
              "       [ 96.61557 ],\n",
              "       [ 96.807495],\n",
              "       [ 96.29622 ],\n",
              "       [ 95.053154],\n",
              "       [ 93.03351 ],\n",
              "       [ 90.71648 ],\n",
              "       [ 89.1926  ],\n",
              "       [ 89.08181 ],\n",
              "       [ 90.02912 ],\n",
              "       [ 91.546005],\n",
              "       [ 93.28053 ],\n",
              "       [ 94.96718 ],\n",
              "       [ 96.48021 ],\n",
              "       [ 97.69163 ],\n",
              "       [ 99.33    ],\n",
              "       [101.20032 ],\n",
              "       [102.90652 ],\n",
              "       [104.08571 ],\n",
              "       [104.771255],\n",
              "       [104.85295 ],\n",
              "       [104.472786],\n",
              "       [103.89872 ],\n",
              "       [103.28275 ],\n",
              "       [102.61955 ],\n",
              "       [102.08274 ],\n",
              "       [101.52487 ],\n",
              "       [101.29519 ],\n",
              "       [101.92976 ],\n",
              "       [103.541046],\n",
              "       [105.7745  ],\n",
              "       [108.12446 ],\n",
              "       [109.896454],\n",
              "       [110.439354],\n",
              "       [109.84218 ],\n",
              "       [108.88661 ],\n",
              "       [108.04227 ],\n",
              "       [107.520515],\n",
              "       [107.68055 ],\n",
              "       [108.34491 ],\n",
              "       [109.35844 ],\n",
              "       [110.71378 ],\n",
              "       [112.06657 ],\n",
              "       [113.10916 ],\n",
              "       [113.68899 ],\n",
              "       [113.76395 ],\n",
              "       [113.3249  ],\n",
              "       [112.37363 ],\n",
              "       [111.29279 ],\n",
              "       [110.80552 ],\n",
              "       [111.0091  ],\n",
              "       [111.61939 ],\n",
              "       [112.23231 ],\n",
              "       [112.81777 ],\n",
              "       [113.242676],\n",
              "       [113.243385],\n",
              "       [112.905754],\n",
              "       [112.355774],\n",
              "       [111.454384],\n",
              "       [111.29204 ],\n",
              "       [111.96673 ],\n",
              "       [113.461105],\n",
              "       [115.30096 ],\n",
              "       [116.9214  ],\n",
              "       [118.243835],\n",
              "       [119.63944 ],\n",
              "       [120.988075],\n",
              "       [122.50813 ],\n",
              "       [124.47858 ],\n",
              "       [125.91256 ],\n",
              "       [126.24858 ],\n",
              "       [125.76211 ],\n",
              "       [124.71814 ],\n",
              "       [123.56492 ],\n",
              "       [122.69771 ],\n",
              "       [122.16171 ],\n",
              "       [121.949524],\n",
              "       [122.55935 ],\n",
              "       [123.52582 ],\n",
              "       [124.49346 ],\n",
              "       [125.39703 ],\n",
              "       [126.13855 ],\n",
              "       [126.89872 ],\n",
              "       [127.46649 ],\n",
              "       [127.82928 ],\n",
              "       [127.984085],\n",
              "       [128.01443 ],\n",
              "       [128.40923 ],\n",
              "       [129.193   ],\n",
              "       [129.74527 ],\n",
              "       [130.3594  ],\n",
              "       [130.7777  ],\n",
              "       [131.05864 ],\n",
              "       [130.67685 ],\n",
              "       [129.49811 ],\n",
              "       [127.64272 ],\n",
              "       [125.503044],\n",
              "       [123.15213 ],\n",
              "       [121.190384],\n",
              "       [120.08853 ],\n",
              "       [119.920135],\n",
              "       [120.60252 ],\n",
              "       [121.5207  ],\n",
              "       [121.95078 ],\n",
              "       [122.05614 ],\n",
              "       [122.25054 ],\n",
              "       [122.317986],\n",
              "       [122.160416],\n",
              "       [121.98966 ],\n",
              "       [121.96216 ],\n",
              "       [122.3294  ],\n",
              "       [123.197266],\n",
              "       [124.207855],\n",
              "       [125.13041 ],\n",
              "       [125.199455],\n",
              "       [124.39109 ],\n",
              "       [123.16337 ],\n",
              "       [122.028564],\n",
              "       [120.90707 ],\n",
              "       [119.55065 ],\n",
              "       [118.1949  ],\n",
              "       [117.14748 ],\n",
              "       [116.379196],\n",
              "       [115.82464 ],\n",
              "       [115.50786 ],\n",
              "       [114.728546],\n",
              "       [113.78361 ],\n",
              "       [112.404755],\n",
              "       [111.0221  ],\n",
              "       [110.081314],\n",
              "       [110.03552 ],\n",
              "       [110.48192 ],\n",
              "       [111.2475  ],\n",
              "       [111.86202 ],\n",
              "       [112.23944 ],\n",
              "       [112.28854 ],\n",
              "       [112.33692 ],\n",
              "       [112.76831 ],\n",
              "       [113.70682 ],\n",
              "       [114.731026],\n",
              "       [115.3871  ],\n",
              "       [115.666435],\n",
              "       [115.87407 ],\n",
              "       [116.13091 ],\n",
              "       [116.27044 ],\n",
              "       [116.66674 ]], dtype=float32)"
            ]
          },
          "metadata": {},
          "execution_count": 23
        }
      ]
    },
    {
      "cell_type": "code",
      "source": [
        "math.sqrt(mean_squared_error(y_train,train_predict))"
      ],
      "metadata": {
        "colab": {
          "base_uri": "https://localhost:8080/"
        },
        "id": "shjMpkGMbTJd",
        "outputId": "dfbfe63f-ec83-4d9b-b1f4-52210141d6b1"
      },
      "execution_count": 24,
      "outputs": [
        {
          "output_type": "execute_result",
          "data": {
            "text/plain": [
              "148.39340134647438"
            ]
          },
          "metadata": {},
          "execution_count": 24
        }
      ]
    },
    {
      "cell_type": "code",
      "source": [
        "math.sqrt(mean_squared_error(y_test,test_predict))"
      ],
      "metadata": {
        "colab": {
          "base_uri": "https://localhost:8080/"
        },
        "id": "NNNGRF7GbV3v",
        "outputId": "d27c696b-95b1-492f-b570-519bb76cea3b"
      },
      "execution_count": 25,
      "outputs": [
        {
          "output_type": "execute_result",
          "data": {
            "text/plain": [
              "103.12532136703176"
            ]
          },
          "metadata": {},
          "execution_count": 25
        }
      ]
    },
    {
      "cell_type": "code",
      "source": [
        "t = timestep\n",
        "\n",
        "p1 = np.empty_like(df1)       #train-pred-plot\n",
        "p1[:,:] =np.nan\n",
        "p1[t : len(train_predict)+t , : ] =  train_predict\n",
        "p2 = np.empty_like(df1)       #test-pred-plot\n",
        "p2[:,:] =np.nan\n",
        "p2[ len(train_predict)+ t*2 + 1 : len(df1) -1 , : ] =  test_predict"
      ],
      "metadata": {
        "id": "LNNyD0C3bYXJ"
      },
      "execution_count": 26,
      "outputs": []
    },
    {
      "cell_type": "code",
      "source": [
        "from matplotlib.pyplot import figure\n",
        "plt.plot(scaler.inverse_transform(df1) , color = 'red', label = 'Real Stock Price')\n",
        "plt.plot(p1 , color = 'blue', label = 'Predicted Stock Price 1 - training ')\n",
        "plt.plot(p2 , color = 'green', label = 'Predicted Stock Price 2 - testing ')\n",
        "\n",
        "plt.rcParams['figure.figsize'] = [15,7]\n",
        "plt.legend()\n",
        "plt.show()"
      ],
      "metadata": {
        "colab": {
          "base_uri": "https://localhost:8080/",
          "height": 428
        },
        "id": "6G0nv0Webap0",
        "outputId": "2d46c885-f5ff-4094-e69e-993b22ff663c"
      },
      "execution_count": 27,
      "outputs": [
        {
          "output_type": "display_data",
          "data": {
            "text/plain": [
              "<Figure size 1080x504 with 1 Axes>"
            ],
            "image/png": "[encoded data removed]"
          },
          "metadata": {
            "needs_background": "light"
          }
        }
      ]
    }
  ]
}